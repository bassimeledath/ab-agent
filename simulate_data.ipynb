{
 "cells": [
  {
   "cell_type": "code",
   "execution_count": 6,
   "metadata": {},
   "outputs": [],
   "source": [
    "import pandas as pd\n",
    "import numpy as np\n",
    "\n",
    "# Using the calculated sample size per group\n",
    "n = 8720\n",
    "\n",
    "# Simulate browsing times\n",
    "np.random.seed(42)  # For reproducibility\n",
    "browse_time_A = np.random.normal(5, 1, n)  # Mean = 5, SD = 1\n",
    "browse_time_B = np.random.normal(8, 1, n)  # Mean = 5.5, SD = 1, to simulate higher browsing time\n",
    "\n",
    "# Create DataFrame\n",
    "data_A = pd.DataFrame({'variation': 'A', 'browse_time': browse_time_A})\n",
    "data_B = pd.DataFrame({'variation': 'B', 'browse_time': browse_time_B})\n",
    "data = pd.concat([data_A, data_B]).reset_index(drop=True)"
   ]
  },
  {
   "cell_type": "code",
   "execution_count": 7,
   "metadata": {},
   "outputs": [],
   "source": [
    "data.to_csv('simulated_data.csv', index=False)"
   ]
  },
  {
   "cell_type": "code",
   "execution_count": null,
   "metadata": {},
   "outputs": [],
   "source": []
  }
 ],
 "metadata": {
  "kernelspec": {
   "display_name": "base",
   "language": "python",
   "name": "python3"
  },
  "language_info": {
   "codemirror_mode": {
    "name": "ipython",
    "version": 3
   },
   "file_extension": ".py",
   "mimetype": "text/x-python",
   "name": "python",
   "nbconvert_exporter": "python",
   "pygments_lexer": "ipython3",
   "version": "3.10.9"
  }
 },
 "nbformat": 4,
 "nbformat_minor": 2
}
